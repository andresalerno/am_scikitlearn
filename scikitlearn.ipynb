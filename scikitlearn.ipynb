{
  "cells": [
    {
      "cell_type": "markdown",
      "metadata": {
        "id": "Jb8m7hooc-rl"
      },
      "source": [
        "## Exemplos\n"
      ]
    },
    {
      "cell_type": "markdown",
      "metadata": {
        "id": "Btcyio5Xdgts"
      },
      "source": [
        "### Previsão de preços de casas"
      ]
    },
    {
      "cell_type": "code",
      "execution_count": 32,
      "metadata": {
        "colab": {
          "base_uri": "https://localhost:8080/",
          "height": 75
        },
        "id": "6AeB7TfDY_pl",
        "outputId": "7e9d71f8-9467-4077-aa70-d9bd842d49a3"
      },
      "outputs": [],
      "source": [
        "from sklearn.datasets import fetch_california_housing\n",
        "from sklearn.linear_model import LinearRegression\n",
        "from sklearn.model_selection import train_test_split\n",
        "import matplotlib.pyplot as plt\n",
        "import pandas as pd\n",
        "import numpy as np\n",
        "\n",
        "# carrega o dataset California Housing\n",
        "housing = fetch_california_housing()\n",
        "\n",
        "type(housing)\n",
        "dir(housing)\n",
        "df = pd.DataFrame(data= np.c_[housing['data'], housing['target']], columns= housing['feature_names'] + ['target'])"
      ]
    },
    {
      "cell_type": "code",
      "execution_count": 30,
      "metadata": {},
      "outputs": [
        {
          "data": {
            "text/html": [
              "<div>\n",
              "<style scoped>\n",
              "    .dataframe tbody tr th:only-of-type {\n",
              "        vertical-align: middle;\n",
              "    }\n",
              "\n",
              "    .dataframe tbody tr th {\n",
              "        vertical-align: top;\n",
              "    }\n",
              "\n",
              "    .dataframe thead th {\n",
              "        text-align: right;\n",
              "    }\n",
              "</style>\n",
              "<table border=\"1\" class=\"dataframe\">\n",
              "  <thead>\n",
              "    <tr style=\"text-align: right;\">\n",
              "      <th></th>\n",
              "      <th>MedInc</th>\n",
              "      <th>HouseAge</th>\n",
              "      <th>AveRooms</th>\n",
              "      <th>AveBedrms</th>\n",
              "      <th>Population</th>\n",
              "      <th>AveOccup</th>\n",
              "      <th>Latitude</th>\n",
              "      <th>Longitude</th>\n",
              "      <th>target</th>\n",
              "    </tr>\n",
              "  </thead>\n",
              "  <tbody>\n",
              "    <tr>\n",
              "      <th>0</th>\n",
              "      <td>8.3252</td>\n",
              "      <td>41.0</td>\n",
              "      <td>6.984127</td>\n",
              "      <td>1.023810</td>\n",
              "      <td>322.0</td>\n",
              "      <td>2.555556</td>\n",
              "      <td>37.88</td>\n",
              "      <td>-122.23</td>\n",
              "      <td>4.526</td>\n",
              "    </tr>\n",
              "    <tr>\n",
              "      <th>1</th>\n",
              "      <td>8.3014</td>\n",
              "      <td>21.0</td>\n",
              "      <td>6.238137</td>\n",
              "      <td>0.971880</td>\n",
              "      <td>2401.0</td>\n",
              "      <td>2.109842</td>\n",
              "      <td>37.86</td>\n",
              "      <td>-122.22</td>\n",
              "      <td>3.585</td>\n",
              "    </tr>\n",
              "    <tr>\n",
              "      <th>2</th>\n",
              "      <td>7.2574</td>\n",
              "      <td>52.0</td>\n",
              "      <td>8.288136</td>\n",
              "      <td>1.073446</td>\n",
              "      <td>496.0</td>\n",
              "      <td>2.802260</td>\n",
              "      <td>37.85</td>\n",
              "      <td>-122.24</td>\n",
              "      <td>3.521</td>\n",
              "    </tr>\n",
              "    <tr>\n",
              "      <th>3</th>\n",
              "      <td>5.6431</td>\n",
              "      <td>52.0</td>\n",
              "      <td>5.817352</td>\n",
              "      <td>1.073059</td>\n",
              "      <td>558.0</td>\n",
              "      <td>2.547945</td>\n",
              "      <td>37.85</td>\n",
              "      <td>-122.25</td>\n",
              "      <td>3.413</td>\n",
              "    </tr>\n",
              "    <tr>\n",
              "      <th>4</th>\n",
              "      <td>3.8462</td>\n",
              "      <td>52.0</td>\n",
              "      <td>6.281853</td>\n",
              "      <td>1.081081</td>\n",
              "      <td>565.0</td>\n",
              "      <td>2.181467</td>\n",
              "      <td>37.85</td>\n",
              "      <td>-122.25</td>\n",
              "      <td>3.422</td>\n",
              "    </tr>\n",
              "  </tbody>\n",
              "</table>\n",
              "</div>"
            ],
            "text/plain": [
              "   MedInc  HouseAge  AveRooms  AveBedrms  Population  AveOccup  Latitude   \n",
              "0  8.3252      41.0  6.984127   1.023810       322.0  2.555556     37.88  \\\n",
              "1  8.3014      21.0  6.238137   0.971880      2401.0  2.109842     37.86   \n",
              "2  7.2574      52.0  8.288136   1.073446       496.0  2.802260     37.85   \n",
              "3  5.6431      52.0  5.817352   1.073059       558.0  2.547945     37.85   \n",
              "4  3.8462      52.0  6.281853   1.081081       565.0  2.181467     37.85   \n",
              "\n",
              "   Longitude  target  \n",
              "0    -122.23   4.526  \n",
              "1    -122.22   3.585  \n",
              "2    -122.24   3.521  \n",
              "3    -122.25   3.413  \n",
              "4    -122.25   3.422  "
            ]
          },
          "execution_count": 30,
          "metadata": {},
          "output_type": "execute_result"
        }
      ],
      "source": [
        "df.head()"
      ]
    },
    {
      "cell_type": "code",
      "execution_count": 33,
      "metadata": {},
      "outputs": [
        {
          "data": {
            "text/plain": [
              "(20640, 9)"
            ]
          },
          "execution_count": 33,
          "metadata": {},
          "output_type": "execute_result"
        }
      ],
      "source": [
        "df.shape"
      ]
    },
    {
      "cell_type": "code",
      "execution_count": 34,
      "metadata": {},
      "outputs": [
        {
          "data": {
            "text/plain": [
              "Index(['MedInc', 'HouseAge', 'AveRooms', 'AveBedrms', 'Population', 'AveOccup',\n",
              "       'Latitude', 'Longitude', 'target'],\n",
              "      dtype='object')"
            ]
          },
          "execution_count": 34,
          "metadata": {},
          "output_type": "execute_result"
        }
      ],
      "source": [
        "df.columns"
      ]
    },
    {
      "cell_type": "code",
      "execution_count": null,
      "metadata": {},
      "outputs": [],
      "source": [
        "# separa o conjunto de treinamento e de teste\n",
        "X_train, X_test, y_train, y_test = train_test_split(housing.data, housing.target, test_size = 0.2, random_state = 42)\n",
        "\n",
        "# cria o modelo de regressão linear\n",
        "model = LinearRegression()\n",
        "\n",
        "# treina o modelo usando o conjunto de treinamento\n",
        "model.fit(X_train, y_train)"
      ]
    },
    {
      "cell_type": "code",
      "execution_count": 39,
      "metadata": {},
      "outputs": [
        {
          "name": "stdout",
          "output_type": "stream",
          "text": [
            "[[ 3.25960000e+00  3.30000000e+01  5.01765650e+00  1.00642055e+00\n",
            "   2.30000000e+03  3.69181380e+00  3.27100000e+01 -1.17030000e+02]\n",
            " [ 3.81250000e+00  4.90000000e+01  4.47354497e+00  1.04100529e+00\n",
            "   1.31400000e+03  1.73809524e+00  3.37700000e+01 -1.18160000e+02]\n",
            " [ 4.15630000e+00  4.00000000e+00  5.64583333e+00  9.85119048e-01\n",
            "   9.15000000e+02  2.72321429e+00  3.46600000e+01 -1.20480000e+02]]\n"
          ]
        }
      ],
      "source": [
        "print(X_train[:3])"
      ]
    },
    {
      "cell_type": "code",
      "execution_count": 40,
      "metadata": {},
      "outputs": [
        {
          "name": "stdout",
          "output_type": "stream",
          "text": [
            "[[ 1.68120000e+00  2.50000000e+01  4.19220056e+00  1.02228412e+00\n",
            "   1.39200000e+03  3.87743733e+00  3.60600000e+01 -1.19010000e+02]\n",
            " [ 2.53130000e+00  3.00000000e+01  5.03938356e+00  1.19349315e+00\n",
            "   1.56500000e+03  2.67979452e+00  3.51400000e+01 -1.19460000e+02]\n",
            " [ 3.48010000e+00  5.20000000e+01  3.97715472e+00  1.18587747e+00\n",
            "   1.31000000e+03  1.36033229e+00  3.78000000e+01 -1.22440000e+02]]\n"
          ]
        }
      ],
      "source": [
        "print(X_test[:3])"
      ]
    },
    {
      "cell_type": "code",
      "execution_count": 41,
      "metadata": {},
      "outputs": [
        {
          "name": "stdout",
          "output_type": "stream",
          "text": [
            "[0.477   0.458   5.00001]\n"
          ]
        }
      ],
      "source": [
        "print(y_test[:3])"
      ]
    },
    {
      "cell_type": "code",
      "execution_count": 42,
      "metadata": {},
      "outputs": [
        {
          "name": "stdout",
          "output_type": "stream",
          "text": [
            "[1.03  3.821 1.726]\n"
          ]
        }
      ],
      "source": [
        "print(y_train[:3])"
      ]
    },
    {
      "cell_type": "code",
      "execution_count": 43,
      "metadata": {
        "colab": {
          "base_uri": "https://localhost:8080/",
          "height": 285
        },
        "id": "nHhtgrj2ZA4t",
        "outputId": "8a8456d5-afd9-403e-bea1-ea9db36b7c78"
      },
      "outputs": [
        {
          "data": {
            "image/png": "[encoded data removed]",
            "text/plain": [
              "<Figure size 640x480 with 1 Axes>"
            ]
          },
          "metadata": {},
          "output_type": "display_data"
        }
      ],
      "source": [
        "# faz as previsões usando o conjunto de teste\n",
        "y_pred = model.predict(X_test)\n",
        "\n",
        "# plota as previsões em relação aos valores reais do conjunto de teste\n",
        "plt.scatter(y_test, y_pred)\n",
        "plt.plot([0, 50], [0, 50], '--k')\n",
        "plt.xlabel('Valores reais')\n",
        "plt.ylabel('Previsões')\n",
        "plt.show()"
      ]
    },
    {
      "cell_type": "code",
      "execution_count": 44,
      "metadata": {
        "colab": {
          "base_uri": "https://localhost:8080/"
        },
        "id": "4BNtzo4aaLtt",
        "outputId": "6407c6fc-ceba-4127-92a2-60b6de010894"
      },
      "outputs": [
        {
          "data": {
            "text/plain": [
              "array([0.71912284, 1.76401657, 2.70965883, ..., 4.46877017, 1.18751119,\n",
              "       2.00940251])"
            ]
          },
          "execution_count": 44,
          "metadata": {},
          "output_type": "execute_result"
        }
      ],
      "source": [
        "y_pred"
      ]
    },
    {
      "cell_type": "markdown",
      "metadata": {
        "id": "-a2LsyHndlUU"
      },
      "source": [
        "## Mercado Financeiro"
      ]
    },
    {
      "cell_type": "code",
      "execution_count": 45,
      "metadata": {
        "id": "iloyH916bVno"
      },
      "outputs": [],
      "source": [
        "# carrega os pacotes\n",
        "import pandas as pd\n",
        "import numpy as np\n",
        "import pandas_datareader.data as pdr\n",
        "from sklearn import linear_model\n",
        "\n",
        "# !pip install yfinance --upgrade --no-cache-dir\n",
        "import yfinance as yf\n",
        "yf.pdr_override()"
      ]
    },
    {
      "cell_type": "code",
      "execution_count": 46,
      "metadata": {
        "id": "yBrK1TzrbbHd"
      },
      "outputs": [
        {
          "name": "stdout",
          "output_type": "stream",
          "text": [
            "[*********************100%***********************]  1 of 1 completed\n"
          ]
        },
        {
          "name": "stderr",
          "output_type": "stream",
          "text": [
            "C:\\Users\\andre\\AppData\\Local\\Temp\\ipykernel_26944\\2458623854.py:14: SettingWithCopyWarning: \n",
            "A value is trying to be set on a copy of a slice from a DataFrame.\n",
            "Try using .loc[row_indexer,col_indexer] = value instead\n",
            "\n",
            "See the caveats in the documentation: https://pandas.pydata.org/pandas-docs/stable/user_guide/indexing.html#returning-a-view-versus-a-copy\n",
            "  data['returns'] = np.log(data / data.shift(1))\n",
            "C:\\Users\\andre\\AppData\\Local\\Temp\\ipykernel_26944\\2458623854.py:17: SettingWithCopyWarning: \n",
            "A value is trying to be set on a copy of a slice from a DataFrame.\n",
            "Try using .loc[row_indexer,col_indexer] = value instead\n",
            "\n",
            "See the caveats in the documentation: https://pandas.pydata.org/pandas-docs/stable/user_guide/indexing.html#returning-a-view-versus-a-copy\n",
            "  data['direction'] = np.sign(data['returns'])\n"
          ]
        }
      ],
      "source": [
        "# datas\n",
        "inicio = '2019-01-01'\n",
        "fim = '2023-04-24'\n",
        "\n",
        "# ticker\n",
        "symbol = 'ITUB4.SA'\n",
        "\n",
        "# importa os dados\n",
        "data = pdr.get_data_yahoo(tickers = symbol,\n",
        "                        start = inicio,\n",
        "                        end = fim)[['Close']]\n",
        "\n",
        "# Log retornos\n",
        "data['returns'] = np.log(data / data.shift(1))\n",
        "\n",
        "# Direção dos retornos (positivo/negativo)\n",
        "data['direction'] = np.sign(data['returns'])"
      ]
    },
    {
      "cell_type": "code",
      "execution_count": 47,
      "metadata": {
        "id": "lMriTn_rbdtd"
      },
      "outputs": [],
      "source": [
        "lags = 2 # lags utilizados para prever o direcionamento\n",
        "\n",
        "# função para criar os lags\n",
        "def create_lags(data):\n",
        "  global cols\n",
        "  cols = []\n",
        "  for lag in range(1, lags + 1):\n",
        "    col = 'lag_{}'.format(lag)\n",
        "    data[col] = data['returns'].shift(lag)\n",
        "    cols.append(col)"
      ]
    },
    {
      "cell_type": "code",
      "execution_count": 48,
      "metadata": {
        "colab": {
          "base_uri": "https://localhost:8080/"
        },
        "id": "hKIKs4rYbe-N",
        "outputId": "6d2caa4b-0103-4688-c078-797fbd701cfb"
      },
      "outputs": [
        {
          "name": "stderr",
          "output_type": "stream",
          "text": [
            "C:\\Users\\andre\\AppData\\Local\\Temp\\ipykernel_26944\\4162798390.py:9: SettingWithCopyWarning: \n",
            "A value is trying to be set on a copy of a slice from a DataFrame.\n",
            "Try using .loc[row_indexer,col_indexer] = value instead\n",
            "\n",
            "See the caveats in the documentation: https://pandas.pydata.org/pandas-docs/stable/user_guide/indexing.html#returning-a-view-versus-a-copy\n",
            "  data[col] = data['returns'].shift(lag)\n",
            "C:\\Users\\andre\\AppData\\Local\\Temp\\ipykernel_26944\\4162798390.py:9: SettingWithCopyWarning: \n",
            "A value is trying to be set on a copy of a slice from a DataFrame.\n",
            "Try using .loc[row_indexer,col_indexer] = value instead\n",
            "\n",
            "See the caveats in the documentation: https://pandas.pydata.org/pandas-docs/stable/user_guide/indexing.html#returning-a-view-versus-a-copy\n",
            "  data[col] = data['returns'].shift(lag)\n",
            "C:\\Users\\andre\\AppData\\Local\\Temp\\ipykernel_26944\\1989682853.py:2: SettingWithCopyWarning: \n",
            "A value is trying to be set on a copy of a slice from a DataFrame\n",
            "\n",
            "See the caveats in the documentation: https://pandas.pydata.org/pandas-docs/stable/user_guide/indexing.html#returning-a-view-versus-a-copy\n",
            "  data.dropna(inplace = True)\n"
          ]
        }
      ],
      "source": [
        "create_lags(data)\n",
        "data.dropna(inplace = True)"
      ]
    },
    {
      "cell_type": "code",
      "execution_count": 49,
      "metadata": {
        "id": "BMh86H73bgB2"
      },
      "outputs": [],
      "source": [
        "# função para criar os sinais (valores das variáveis dependentes)\n",
        "def create_bins(data, bins=[0]):\n",
        "  global cols_bin\n",
        "  cols_bin = []\n",
        "  for col in cols:\n",
        "    col_bin = col + '_bin'\n",
        "    data[col_bin] = np.digitize(data[col], bins=bins)\n",
        "    cols_bin.append(col_bin)"
      ]
    },
    {
      "cell_type": "code",
      "execution_count": 50,
      "metadata": {
        "colab": {
          "base_uri": "https://localhost:8080/",
          "height": 663
        },
        "id": "DlFosIBrbhbF",
        "outputId": "14bbf381-f496-4353-a1c1-c3589df2721e"
      },
      "outputs": [
        {
          "name": "stderr",
          "output_type": "stream",
          "text": [
            "C:\\Users\\andre\\AppData\\Local\\Temp\\ipykernel_26944\\336820246.py:7: SettingWithCopyWarning: \n",
            "A value is trying to be set on a copy of a slice from a DataFrame.\n",
            "Try using .loc[row_indexer,col_indexer] = value instead\n",
            "\n",
            "See the caveats in the documentation: https://pandas.pydata.org/pandas-docs/stable/user_guide/indexing.html#returning-a-view-versus-a-copy\n",
            "  data[col_bin] = np.digitize(data[col], bins=bins)\n",
            "C:\\Users\\andre\\AppData\\Local\\Temp\\ipykernel_26944\\336820246.py:7: SettingWithCopyWarning: \n",
            "A value is trying to be set on a copy of a slice from a DataFrame.\n",
            "Try using .loc[row_indexer,col_indexer] = value instead\n",
            "\n",
            "See the caveats in the documentation: https://pandas.pydata.org/pandas-docs/stable/user_guide/indexing.html#returning-a-view-versus-a-copy\n",
            "  data[col_bin] = np.digitize(data[col], bins=bins)\n"
          ]
        },
        {
          "data": {
            "text/html": [
              "<div>\n",
              "<style scoped>\n",
              "    .dataframe tbody tr th:only-of-type {\n",
              "        vertical-align: middle;\n",
              "    }\n",
              "\n",
              "    .dataframe tbody tr th {\n",
              "        vertical-align: top;\n",
              "    }\n",
              "\n",
              "    .dataframe thead th {\n",
              "        text-align: right;\n",
              "    }\n",
              "</style>\n",
              "<table border=\"1\" class=\"dataframe\">\n",
              "  <thead>\n",
              "    <tr style=\"text-align: right;\">\n",
              "      <th></th>\n",
              "      <th>Close</th>\n",
              "      <th>returns</th>\n",
              "      <th>direction</th>\n",
              "      <th>lag_1</th>\n",
              "      <th>lag_2</th>\n",
              "      <th>lag_1_bin</th>\n",
              "      <th>lag_2_bin</th>\n",
              "    </tr>\n",
              "    <tr>\n",
              "      <th>Date</th>\n",
              "      <th></th>\n",
              "      <th></th>\n",
              "      <th></th>\n",
              "      <th></th>\n",
              "      <th></th>\n",
              "      <th></th>\n",
              "      <th></th>\n",
              "    </tr>\n",
              "  </thead>\n",
              "  <tbody>\n",
              "    <tr>\n",
              "      <th>2019-01-07</th>\n",
              "      <td>37.049999</td>\n",
              "      <td>0.001891</td>\n",
              "      <td>1.0</td>\n",
              "      <td>-0.016893</td>\n",
              "      <td>0.016352</td>\n",
              "      <td>0</td>\n",
              "      <td>1</td>\n",
              "    </tr>\n",
              "    <tr>\n",
              "      <th>2019-01-08</th>\n",
              "      <td>37.520000</td>\n",
              "      <td>0.012606</td>\n",
              "      <td>1.0</td>\n",
              "      <td>0.001891</td>\n",
              "      <td>-0.016893</td>\n",
              "      <td>1</td>\n",
              "      <td>0</td>\n",
              "    </tr>\n",
              "    <tr>\n",
              "      <th>2019-01-09</th>\n",
              "      <td>38.090000</td>\n",
              "      <td>0.015078</td>\n",
              "      <td>1.0</td>\n",
              "      <td>0.012606</td>\n",
              "      <td>0.001891</td>\n",
              "      <td>1</td>\n",
              "      <td>1</td>\n",
              "    </tr>\n",
              "    <tr>\n",
              "      <th>2019-01-10</th>\n",
              "      <td>37.830002</td>\n",
              "      <td>-0.006849</td>\n",
              "      <td>-1.0</td>\n",
              "      <td>0.015078</td>\n",
              "      <td>0.012606</td>\n",
              "      <td>1</td>\n",
              "      <td>1</td>\n",
              "    </tr>\n",
              "    <tr>\n",
              "      <th>2019-01-11</th>\n",
              "      <td>37.599998</td>\n",
              "      <td>-0.006098</td>\n",
              "      <td>-1.0</td>\n",
              "      <td>-0.006849</td>\n",
              "      <td>0.015078</td>\n",
              "      <td>0</td>\n",
              "      <td>1</td>\n",
              "    </tr>\n",
              "    <tr>\n",
              "      <th>...</th>\n",
              "      <td>...</td>\n",
              "      <td>...</td>\n",
              "      <td>...</td>\n",
              "      <td>...</td>\n",
              "      <td>...</td>\n",
              "      <td>...</td>\n",
              "      <td>...</td>\n",
              "    </tr>\n",
              "    <tr>\n",
              "      <th>2023-04-14</th>\n",
              "      <td>26.010000</td>\n",
              "      <td>0.014327</td>\n",
              "      <td>1.0</td>\n",
              "      <td>0.000000</td>\n",
              "      <td>0.006652</td>\n",
              "      <td>1</td>\n",
              "      <td>1</td>\n",
              "    </tr>\n",
              "    <tr>\n",
              "      <th>2023-04-17</th>\n",
              "      <td>25.959999</td>\n",
              "      <td>-0.001924</td>\n",
              "      <td>-1.0</td>\n",
              "      <td>0.014327</td>\n",
              "      <td>0.000000</td>\n",
              "      <td>1</td>\n",
              "      <td>1</td>\n",
              "    </tr>\n",
              "    <tr>\n",
              "      <th>2023-04-18</th>\n",
              "      <td>25.940001</td>\n",
              "      <td>-0.000771</td>\n",
              "      <td>-1.0</td>\n",
              "      <td>-0.001924</td>\n",
              "      <td>0.014327</td>\n",
              "      <td>0</td>\n",
              "      <td>1</td>\n",
              "    </tr>\n",
              "    <tr>\n",
              "      <th>2023-04-19</th>\n",
              "      <td>25.530001</td>\n",
              "      <td>-0.015932</td>\n",
              "      <td>-1.0</td>\n",
              "      <td>-0.000771</td>\n",
              "      <td>-0.001924</td>\n",
              "      <td>0</td>\n",
              "      <td>0</td>\n",
              "    </tr>\n",
              "    <tr>\n",
              "      <th>2023-04-20</th>\n",
              "      <td>25.600000</td>\n",
              "      <td>0.002738</td>\n",
              "      <td>1.0</td>\n",
              "      <td>-0.015932</td>\n",
              "      <td>-0.000771</td>\n",
              "      <td>0</td>\n",
              "      <td>0</td>\n",
              "    </tr>\n",
              "  </tbody>\n",
              "</table>\n",
              "<p>1066 rows × 7 columns</p>\n",
              "</div>"
            ],
            "text/plain": [
              "                Close   returns  direction     lag_1     lag_2  lag_1_bin   \n",
              "Date                                                                        \n",
              "2019-01-07  37.049999  0.001891        1.0 -0.016893  0.016352          0  \\\n",
              "2019-01-08  37.520000  0.012606        1.0  0.001891 -0.016893          1   \n",
              "2019-01-09  38.090000  0.015078        1.0  0.012606  0.001891          1   \n",
              "2019-01-10  37.830002 -0.006849       -1.0  0.015078  0.012606          1   \n",
              "2019-01-11  37.599998 -0.006098       -1.0 -0.006849  0.015078          0   \n",
              "...               ...       ...        ...       ...       ...        ...   \n",
              "2023-04-14  26.010000  0.014327        1.0  0.000000  0.006652          1   \n",
              "2023-04-17  25.959999 -0.001924       -1.0  0.014327  0.000000          1   \n",
              "2023-04-18  25.940001 -0.000771       -1.0 -0.001924  0.014327          0   \n",
              "2023-04-19  25.530001 -0.015932       -1.0 -0.000771 -0.001924          0   \n",
              "2023-04-20  25.600000  0.002738        1.0 -0.015932 -0.000771          0   \n",
              "\n",
              "            lag_2_bin  \n",
              "Date                   \n",
              "2019-01-07          1  \n",
              "2019-01-08          0  \n",
              "2019-01-09          1  \n",
              "2019-01-10          1  \n",
              "2019-01-11          1  \n",
              "...               ...  \n",
              "2023-04-14          1  \n",
              "2023-04-17          1  \n",
              "2023-04-18          1  \n",
              "2023-04-19          0  \n",
              "2023-04-20          0  \n",
              "\n",
              "[1066 rows x 7 columns]"
            ]
          },
          "execution_count": 50,
          "metadata": {},
          "output_type": "execute_result"
        }
      ],
      "source": [
        "create_bins(data)\n",
        "\n",
        "data"
      ]
    },
    {
      "cell_type": "code",
      "execution_count": 51,
      "metadata": {
        "id": "_V1i9Wvmbi3N"
      },
      "outputs": [],
      "source": [
        "# Modelo utilizado\n",
        "models = {\n",
        "'log_reg': linear_model.LogisticRegression()\n",
        "}\n",
        "\n",
        "# Função para rodar os modelos\n",
        "def fit_models(data):\n",
        "  mfit = {model: models[model].fit(data[cols_bin],\n",
        "                                  data['direction'])\n",
        "         for model in models.keys()}"
      ]
    },
    {
      "cell_type": "code",
      "execution_count": 52,
      "metadata": {
        "id": "fMJkybjgbkdF"
      },
      "outputs": [],
      "source": [
        "fit_models(data)"
      ]
    },
    {
      "cell_type": "code",
      "execution_count": 53,
      "metadata": {
        "id": "azxyxes0blpF"
      },
      "outputs": [],
      "source": [
        "# Retira as posição dos valores previstos\n",
        "def derive_positions(data):\n",
        "    for model in models.keys():\n",
        "        data['pos_' + model] = models[model].predict(data[cols_bin])"
      ]
    },
    {
      "cell_type": "code",
      "execution_count": 54,
      "metadata": {
        "colab": {
          "base_uri": "https://localhost:8080/"
        },
        "id": "TfzeNPmCbm11",
        "outputId": "f49b32d6-62f0-420e-8f8d-bb9f30773bf3"
      },
      "outputs": [
        {
          "name": "stderr",
          "output_type": "stream",
          "text": [
            "C:\\Users\\andre\\AppData\\Local\\Temp\\ipykernel_26944\\2680417020.py:4: SettingWithCopyWarning: \n",
            "A value is trying to be set on a copy of a slice from a DataFrame.\n",
            "Try using .loc[row_indexer,col_indexer] = value instead\n",
            "\n",
            "See the caveats in the documentation: https://pandas.pydata.org/pandas-docs/stable/user_guide/indexing.html#returning-a-view-versus-a-copy\n",
            "  data['pos_' + model] = models[model].predict(data[cols_bin])\n"
          ]
        }
      ],
      "source": [
        "derive_positions(data)"
      ]
    },
    {
      "cell_type": "code",
      "execution_count": 55,
      "metadata": {
        "id": "ZZEdW6PYboE2"
      },
      "outputs": [],
      "source": [
        "# Função para avaliar a estratégia\n",
        "def evaluate_strats(data):\n",
        "  global sel\n",
        "  sel = []\n",
        "  for model in models.keys():\n",
        "      col = 'strat_' + model\n",
        "      data[col] = data['pos_' + model] * data['returns']\n",
        "      sel.append(col)\n",
        "  sel.insert(0, 'returns')"
      ]
    },
    {
      "cell_type": "code",
      "execution_count": 56,
      "metadata": {
        "colab": {
          "base_uri": "https://localhost:8080/"
        },
        "id": "j9iTLoIfbpbd",
        "outputId": "df39fa86-0848-4ec1-da41-cd3988a187d3"
      },
      "outputs": [
        {
          "name": "stderr",
          "output_type": "stream",
          "text": [
            "C:\\Users\\andre\\AppData\\Local\\Temp\\ipykernel_26944\\1663186477.py:7: SettingWithCopyWarning: \n",
            "A value is trying to be set on a copy of a slice from a DataFrame.\n",
            "Try using .loc[row_indexer,col_indexer] = value instead\n",
            "\n",
            "See the caveats in the documentation: https://pandas.pydata.org/pandas-docs/stable/user_guide/indexing.html#returning-a-view-versus-a-copy\n",
            "  data[col] = data['pos_' + model] * data['returns']\n"
          ]
        }
      ],
      "source": [
        "evaluate_strats(data)"
      ]
    },
    {
      "cell_type": "code",
      "execution_count": 57,
      "metadata": {
        "colab": {
          "base_uri": "https://localhost:8080/",
          "height": 400
        },
        "id": "eFweymxobr41",
        "outputId": "7b200744-85a2-41b2-c712-e49872fa04b1"
      },
      "outputs": [
        {
          "data": {
            "text/plain": [
              "<Axes: xlabel='Date'>"
            ]
          },
          "execution_count": 57,
          "metadata": {},
          "output_type": "execute_result"
        },
        {
          "data": {
            "image/png": "[encoded data removed]",
            "text/plain": [
              "<Figure size 1000x600 with 1 Axes>"
            ]
          },
          "metadata": {},
          "output_type": "display_data"
        }
      ],
      "source": [
        "import seaborn as sns\n",
        "sns.set()\n",
        "\n",
        "data[sel].cumsum().apply(np.exp).plot(figsize=(10, 6))"
      ]
    }
  ],
  "metadata": {
    "colab": {
      "provenance": []
    },
    "kernelspec": {
      "display_name": "Python 3",
      "name": "python3"
    },
    "language_info": {
      "codemirror_mode": {
        "name": "ipython",
        "version": 3
      },
      "file_extension": ".py",
      "mimetype": "text/x-python",
      "name": "python",
      "nbconvert_exporter": "python",
      "pygments_lexer": "ipython3",
      "version": "3.11.3"
    }
  },
  "nbformat": 4,
  "nbformat_minor": 0
}
